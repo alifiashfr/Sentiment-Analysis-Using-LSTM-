{
  "nbformat": 4,
  "nbformat_minor": 0,
  "metadata": {
    "colab": {
      "provenance": []
    },
    "kernelspec": {
      "name": "python3",
      "display_name": "Python 3"
    },
    "language_info": {
      "name": "python"
    }
  },
  "cells": [
    {
      "cell_type": "markdown",
      "metadata": {
        "id": "pdjq9veObnCf"
      },
      "source": [
        "# **GEMASTIK DATA MINING - Tim PendatangBaru**\n",
        "## **Analisis Sentimen Menggunakan LSTM**\n",
        "### **Anggota:**\n",
        "1. Alifia Shafira (1301194102)\n",
        "2. Muhammad Alfi Syahri Nasution (1301190326)\n",
        "3. Shadifa Auliatama Harjanto (1301194220)\n"
      ]
    },
    {
      "cell_type": "markdown",
      "metadata": {
        "id": "3I5i6CU7dCuG"
      },
      "source": [
        "## **Import Library**"
      ]
    },
    {
      "cell_type": "code",
      "metadata": {
        "id": "RYmXojqixIa9"
      },
      "source": [
        "import numpy as np\n",
        "import pandas as pd\n",
        "import seaborn as sns\n",
        "\n",
        "from sklearn.feature_extraction.text import CountVectorizer\n",
        "from keras.preprocessing.text import Tokenizer\n",
        "from keras.preprocessing.sequence import pad_sequences\n",
        "from keras.models import Sequential\n",
        "from keras.layers import Dense, Embedding, LSTM, SpatialDropout1D\n",
        "from sklearn.model_selection import train_test_split\n",
        "from keras.utils.np_utils import to_categorical\n",
        "import re"
      ],
      "execution_count": null,
      "outputs": []
    },
    {
      "cell_type": "markdown",
      "metadata": {
        "id": "b5gFWvfmdZHG"
      },
      "source": [
        "##**Load Dataset**"
      ]
    },
    {
      "cell_type": "code",
      "metadata": {
        "colab": {
          "base_uri": "https://localhost:8080/"
        },
        "id": "3qghPiChkPsB",
        "outputId": "8ed6d077-98ad-4ae3-9d23-c546b4866de6"
      },
      "source": [
        "df = pd.read_csv(\"dataset.csv\")\n",
        "df.shape"
      ],
      "execution_count": null,
      "outputs": [
        {
          "output_type": "execute_result",
          "data": {
            "text/plain": [
              "(10806, 2)"
            ]
          },
          "metadata": {
            "tags": []
          },
          "execution_count": 8
        }
      ]
    },
    {
      "cell_type": "code",
      "metadata": {
        "colab": {
          "base_uri": "https://localhost:8080/",
          "height": 234
        },
        "id": "_Zh_A-r-kW2v",
        "outputId": "7a620d24-cd72-46aa-d2a8-e8e32c187b59"
      },
      "source": [
        "df.head(6)"
      ],
      "execution_count": null,
      "outputs": [
        {
          "output_type": "execute_result",
          "data": {
            "text/html": [
              "<div>\n",
              "<style scoped>\n",
              "    .dataframe tbody tr th:only-of-type {\n",
              "        vertical-align: middle;\n",
              "    }\n",
              "\n",
              "    .dataframe tbody tr th {\n",
              "        vertical-align: top;\n",
              "    }\n",
              "\n",
              "    .dataframe thead th {\n",
              "        text-align: right;\n",
              "    }\n",
              "</style>\n",
              "<table border=\"1\" class=\"dataframe\">\n",
              "  <thead>\n",
              "    <tr style=\"text-align: right;\">\n",
              "      <th></th>\n",
              "      <th>sentimen</th>\n",
              "      <th>Tweet</th>\n",
              "    </tr>\n",
              "  </thead>\n",
              "  <tbody>\n",
              "    <tr>\n",
              "      <th>0</th>\n",
              "      <td>0</td>\n",
              "      <td>lagu bosan apa yang aku save ni huhuhuhuhuhuhu...</td>\n",
              "    </tr>\n",
              "    <tr>\n",
              "      <th>1</th>\n",
              "      <td>0</td>\n",
              "      <td>kita lanjutkan saja diam ini hingga kau dan ak...</td>\n",
              "    </tr>\n",
              "    <tr>\n",
              "      <th>2</th>\n",
              "      <td>1</td>\n",
              "      <td>doa rezeki tak putus inna haa zaa larizquna ma...</td>\n",
              "    </tr>\n",
              "    <tr>\n",
              "      <th>3</th>\n",
              "      <td>1</td>\n",
              "      <td>makasih loh ntar kita bagi hasil aku 99 9 sisa...</td>\n",
              "    </tr>\n",
              "    <tr>\n",
              "      <th>4</th>\n",
              "      <td>0</td>\n",
              "      <td>aku tak faham betul jenis orang malaysia yang ...</td>\n",
              "    </tr>\n",
              "    <tr>\n",
              "      <th>6</th>\n",
              "      <td>0</td>\n",
              "      <td>cerita dia macam ni mamat ni hari2 aku nampak ...</td>\n",
              "    </tr>\n",
              "  </tbody>\n",
              "</table>\n",
              "</div>"
            ],
            "text/plain": [
              "   sentimen                                              Tweet\n",
              "0         0  lagu bosan apa yang aku save ni huhuhuhuhuhuhu...\n",
              "1         0  kita lanjutkan saja diam ini hingga kau dan ak...\n",
              "2         1  doa rezeki tak putus inna haa zaa larizquna ma...\n",
              "3         1  makasih loh ntar kita bagi hasil aku 99 9 sisa...\n",
              "4         0  aku tak faham betul jenis orang malaysia yang ...\n",
              "6         0  cerita dia macam ni mamat ni hari2 aku nampak ..."
            ]
          },
          "metadata": {
            "tags": []
          },
          "execution_count": 11
        }
      ]
    },
    {
      "cell_type": "code",
      "metadata": {
        "id": "0Y5iN4XNMzkJ"
      },
      "source": [
        "data_awal = df.head(6)\n",
        "filepath ='data_awal.csv'\n",
        "data_awal.to_csv(filepath, index=False)"
      ],
      "execution_count": null,
      "outputs": []
    },
    {
      "cell_type": "code",
      "metadata": {
        "colab": {
          "base_uri": "https://localhost:8080/",
          "height": 298
        },
        "id": "28w9BlEXR5hg",
        "outputId": "43e7c042-1132-417f-ed07-032e906a62c2"
      },
      "source": [
        "df['sentimen'].value_counts().plot(kind='bar',\n",
        "                                   title='Jumlah Dataset Awal',\n",
        "                                   x='Label',\n",
        "                                   y='Jumlah')"
      ],
      "execution_count": null,
      "outputs": [
        {
          "output_type": "execute_result",
          "data": {
            "text/plain": [
              "<matplotlib.axes._subplots.AxesSubplot at 0x7f5e555a5110>"
            ]
          },
          "metadata": {
            "tags": []
          },
          "execution_count": 4
        },
        {
          "output_type": "display_data",
          "data": {
            "image/png": "[encoded data removed]",
            "text/plain": [
              "<Figure size 432x288 with 1 Axes>"
            ]
          },
          "metadata": {
            "tags": [],
            "needs_background": "light"
          }
        }
      ]
    },
    {
      "cell_type": "markdown",
      "metadata": {
        "id": "6lFCknnWdfUN"
      },
      "source": [
        "##**Data Preprocessing**"
      ]
    },
    {
      "cell_type": "code",
      "metadata": {
        "colab": {
          "base_uri": "https://localhost:8080/",
          "height": 234
        },
        "id": "zJxUXHAaxNm-",
        "outputId": "70e6f890-942d-46a7-dabd-ef658a1c9443"
      },
      "source": [
        "df['Tweet'] = df['Tweet'].apply(lambda x: x.lower())\n",
        "# removing special chars\n",
        "df['Tweet'] = df['Tweet'].apply((lambda x: re.sub('[^a-zA-z0-9\\s]','',x)))\n",
        "df['Tweet'] = df['Tweet'].apply((lambda x: re.sub('rt','',x)))\n",
        "df['Tweet'] = df['Tweet'].apply((lambda x: re.sub('^\\s+|\\s+$','',x)))\n",
        "df.drop(df.index[df['sentimen'] == 0], inplace = True)\n",
        "df['sentimen'] = df['sentimen'].replace(-1, 0)\n",
        "#\n",
        "df.head(6)"
      ],
      "execution_count": null,
      "outputs": [
        {
          "output_type": "execute_result",
          "data": {
            "text/html": [
              "<div>\n",
              "<style scoped>\n",
              "    .dataframe tbody tr th:only-of-type {\n",
              "        vertical-align: middle;\n",
              "    }\n",
              "\n",
              "    .dataframe tbody tr th {\n",
              "        vertical-align: top;\n",
              "    }\n",
              "\n",
              "    .dataframe thead th {\n",
              "        text-align: right;\n",
              "    }\n",
              "</style>\n",
              "<table border=\"1\" class=\"dataframe\">\n",
              "  <thead>\n",
              "    <tr style=\"text-align: right;\">\n",
              "      <th></th>\n",
              "      <th>sentimen</th>\n",
              "      <th>Tweet</th>\n",
              "    </tr>\n",
              "  </thead>\n",
              "  <tbody>\n",
              "    <tr>\n",
              "      <th>0</th>\n",
              "      <td>0</td>\n",
              "      <td>lagu bosan apa yang aku save ni huhuhuhuhuhuhu...</td>\n",
              "    </tr>\n",
              "    <tr>\n",
              "      <th>1</th>\n",
              "      <td>0</td>\n",
              "      <td>kita lanjutkan saja diam ini hingga kau dan ak...</td>\n",
              "    </tr>\n",
              "    <tr>\n",
              "      <th>2</th>\n",
              "      <td>1</td>\n",
              "      <td>doa rezeki tak putus inna haa zaa larizquna ma...</td>\n",
              "    </tr>\n",
              "    <tr>\n",
              "      <th>3</th>\n",
              "      <td>1</td>\n",
              "      <td>makasih loh ntar kita bagi hasil aku 99 9 sisa...</td>\n",
              "    </tr>\n",
              "    <tr>\n",
              "      <th>4</th>\n",
              "      <td>0</td>\n",
              "      <td>aku tak faham betul jenis orang malaysia yang ...</td>\n",
              "    </tr>\n",
              "    <tr>\n",
              "      <th>6</th>\n",
              "      <td>0</td>\n",
              "      <td>cerita dia macam ni mamat ni hari2 aku nampak ...</td>\n",
              "    </tr>\n",
              "  </tbody>\n",
              "</table>\n",
              "</div>"
            ],
            "text/plain": [
              "   sentimen                                              Tweet\n",
              "0         0  lagu bosan apa yang aku save ni huhuhuhuhuhuhu...\n",
              "1         0  kita lanjutkan saja diam ini hingga kau dan ak...\n",
              "2         1  doa rezeki tak putus inna haa zaa larizquna ma...\n",
              "3         1  makasih loh ntar kita bagi hasil aku 99 9 sisa...\n",
              "4         0  aku tak faham betul jenis orang malaysia yang ...\n",
              "6         0  cerita dia macam ni mamat ni hari2 aku nampak ..."
            ]
          },
          "metadata": {
            "tags": []
          },
          "execution_count": 10
        }
      ]
    },
    {
      "cell_type": "code",
      "metadata": {
        "colab": {
          "base_uri": "https://localhost:8080/",
          "height": 280
        },
        "id": "LE6OGuToVXp7",
        "outputId": "04233c26-383a-438b-f536-72ead42d7301"
      },
      "source": [
        "#Grafik setelah label 'Netral' dihapus\n",
        "df['sentimen'].value_counts().plot(kind='bar')"
      ],
      "execution_count": null,
      "outputs": [
        {
          "output_type": "execute_result",
          "data": {
            "text/plain": [
              "<matplotlib.axes._subplots.AxesSubplot at 0x7f5e554b3cd0>"
            ]
          },
          "metadata": {
            "tags": []
          },
          "execution_count": 6
        },
        {
          "output_type": "display_data",
          "data": {
            "image/png": "[encoded data removed]",
            "text/plain": [
              "<Figure size 432x288 with 1 Axes>"
            ]
          },
          "metadata": {
            "tags": [],
            "needs_background": "light"
          }
        }
      ]
    },
    {
      "cell_type": "code",
      "metadata": {
        "colab": {
          "base_uri": "https://localhost:8080/"
        },
        "id": "K-y-tNwc7V5H",
        "outputId": "84becac3-5d6e-4213-ed8b-f9c3260a2a84"
      },
      "source": [
        "max_features = 2000\n",
        "tokenizer = Tokenizer(num_words=max_features, split=' ')\n",
        "tokenizer.fit_on_texts(df['Tweet'].values)\n",
        "X = tokenizer.texts_to_sequences(df['Tweet'].values)\n",
        "X = pad_sequences(X)\n",
        "X[:2]"
      ],
      "execution_count": null,
      "outputs": [
        {
          "output_type": "execute_result",
          "data": {
            "text/plain": [
              "array([[   0,    0,    0,    0,    0,    0,    0,    0,    0,    0,    0,\n",
              "           0,    0,    0,    0,    0,    0,    0,  631,  990,   15,    3,\n",
              "           1, 1733,   17],\n",
              "       [   0,    0,    0,    0,    0,    0,    0,    0,    0,    0,    0,\n",
              "           0,    4,  103,  246,   11,  670,   20,    5,    1, 1734,   25,\n",
              "          53,   61,   49]], dtype=int32)"
            ]
          },
          "metadata": {
            "tags": []
          },
          "execution_count": 7
        }
      ]
    },
    {
      "cell_type": "markdown",
      "metadata": {
        "id": "LiNuPFNidmIl"
      },
      "source": [
        "##**Model**"
      ]
    },
    {
      "cell_type": "code",
      "metadata": {
        "colab": {
          "base_uri": "https://localhost:8080/"
        },
        "id": "I4LDcYi07hrm",
        "outputId": "9e52ac72-51c3-422d-d469-c76a1e32c531"
      },
      "source": [
        "#Hyperparameter\n",
        "lstm_unit = 64\n",
        "batch_size = 256\n",
        "epoch = 10\n",
        "\n",
        "\n",
        "model = Sequential()\n",
        "model.add(Embedding(input_dim=max_features, output_dim=128,input_length = X.shape[1]))\n",
        "model.add(SpatialDropout1D(0.4))\n",
        "model.add(LSTM(lstm_unit, dropout=0.2, recurrent_dropout=0.2))\n",
        "model.add(Dense(2,activation='softmax'))\n",
        "model.compile(loss = 'categorical_crossentropy', optimizer='adam',metrics = ['accuracy'])\n",
        "print(model.summary())"
      ],
      "execution_count": null,
      "outputs": [
        {
          "output_type": "stream",
          "text": [
            "Model: \"sequential\"\n",
            "_________________________________________________________________\n",
            "Layer (type)                 Output Shape              Param #   \n",
            "=================================================================\n",
            "embedding (Embedding)        (None, 25, 128)           256000    \n",
            "_________________________________________________________________\n",
            "spatial_dropout1d (SpatialDr (None, 25, 128)           0         \n",
            "_________________________________________________________________\n",
            "lstm (LSTM)                  (None, 64)                49408     \n",
            "_________________________________________________________________\n",
            "dense (Dense)                (None, 2)                 130       \n",
            "=================================================================\n",
            "Total params: 305,538\n",
            "Trainable params: 305,538\n",
            "Non-trainable params: 0\n",
            "_________________________________________________________________\n",
            "None\n"
          ],
          "name": "stdout"
        }
      ]
    },
    {
      "cell_type": "markdown",
      "metadata": {
        "id": "NN75I1CRdpI9"
      },
      "source": [
        "##**Data Split**"
      ]
    },
    {
      "cell_type": "code",
      "metadata": {
        "colab": {
          "base_uri": "https://localhost:8080/"
        },
        "id": "nD5KrJ3M7kI-",
        "outputId": "f147f345-0187-4755-fdf6-478cdb9104ae"
      },
      "source": [
        "Y = pd.get_dummies(df['sentimen']).values\n",
        "X_train, X_test, Y_train, Y_test = train_test_split(X,Y, test_size = 0.20, random_state = 42)\n",
        "print(X_train.shape,Y_train.shape)\n",
        "print(X_test.shape,Y_test.shape)"
      ],
      "execution_count": null,
      "outputs": [
        {
          "output_type": "stream",
          "text": [
            "(4383, 25) (4383, 2)\n",
            "(1096, 25) (1096, 2)\n"
          ],
          "name": "stdout"
        }
      ]
    },
    {
      "cell_type": "markdown",
      "metadata": {
        "id": "apTLrKasdtzd"
      },
      "source": [
        "##**Model Train**"
      ]
    },
    {
      "cell_type": "code",
      "metadata": {
        "colab": {
          "base_uri": "https://localhost:8080/"
        },
        "id": "LPREUuhi7qtW",
        "outputId": "960698a9-ce8d-47fd-d698-7105c4caa4c4"
      },
      "source": [
        "model.fit(X_train, \n",
        "          Y_train, \n",
        "          epochs = epoch, \n",
        "          batch_size=batch_size,\n",
        "          validation_data=(X_test, Y_test), \n",
        "          verbose = 1)"
      ],
      "execution_count": null,
      "outputs": [
        {
          "output_type": "stream",
          "text": [
            "Epoch 1/10\n",
            "18/18 [==============================] - 31s 238ms/step - loss: 0.6916 - accuracy: 0.5219 - val_loss: 0.6793 - val_accuracy: 0.5903\n",
            "Epoch 2/10\n",
            "18/18 [==============================] - 3s 148ms/step - loss: 0.6619 - accuracy: 0.6373 - val_loss: 0.6259 - val_accuracy: 0.6597\n",
            "Epoch 3/10\n",
            "18/18 [==============================] - 3s 147ms/step - loss: 0.5700 - accuracy: 0.7098 - val_loss: 0.5786 - val_accuracy: 0.7035\n",
            "Epoch 4/10\n",
            "18/18 [==============================] - 3s 147ms/step - loss: 0.4679 - accuracy: 0.7851 - val_loss: 0.5713 - val_accuracy: 0.7318\n",
            "Epoch 5/10\n",
            "18/18 [==============================] - 3s 149ms/step - loss: 0.3817 - accuracy: 0.8334 - val_loss: 0.5858 - val_accuracy: 0.7354\n",
            "Epoch 6/10\n",
            "18/18 [==============================] - 3s 146ms/step - loss: 0.3311 - accuracy: 0.8657 - val_loss: 0.6343 - val_accuracy: 0.7345\n",
            "Epoch 7/10\n",
            "18/18 [==============================] - 3s 150ms/step - loss: 0.3055 - accuracy: 0.8721 - val_loss: 0.6780 - val_accuracy: 0.7245\n",
            "Epoch 8/10\n",
            "18/18 [==============================] - 3s 157ms/step - loss: 0.2755 - accuracy: 0.8838 - val_loss: 0.7733 - val_accuracy: 0.7290\n",
            "Epoch 9/10\n",
            "18/18 [==============================] - 3s 146ms/step - loss: 0.2458 - accuracy: 0.8936 - val_loss: 0.8020 - val_accuracy: 0.7254\n",
            "Epoch 10/10\n",
            "18/18 [==============================] - 3s 154ms/step - loss: 0.2319 - accuracy: 0.9029 - val_loss: 0.8536 - val_accuracy: 0.7117\n"
          ],
          "name": "stdout"
        },
        {
          "output_type": "execute_result",
          "data": {
            "text/plain": [
              "<keras.callbacks.History at 0x7f5e540f9290>"
            ]
          },
          "metadata": {
            "tags": []
          },
          "execution_count": 10
        }
      ]
    },
    {
      "cell_type": "markdown",
      "metadata": {
        "id": "xr2eA_iufBh0"
      },
      "source": [
        "##**Hasil Prediksi**"
      ]
    },
    {
      "cell_type": "code",
      "metadata": {
        "id": "5EXEA3pB8HBv"
      },
      "source": [
        "#twt = ['Kapolri Ingin Distribusi Bantuan Warga Terdampak PPKM Darurat Dipercepat'] #Masukin kalimat secara manual buat ngecek\n",
        "def testing(twt):\n",
        "  #twt = ['mau beli pencil alis taunya ppkm gajadi lagi']\n",
        "  #vectorizing the tweet by the pre-fitted tokenizer instance\n",
        "  twt = tokenizer.texts_to_sequences(twt)\n",
        "  #padding the tweet to have exactly the same shape as `embedding_2` input\n",
        "  twt = pad_sequences(twt, maxlen=64, dtype='int32', value=0)\n",
        "  #print(twt)\n",
        "  sentiment = model.predict(twt,batch_size=1,verbose = 1)[0]\n",
        "  if(np.argmax(sentiment) == 0):\n",
        "      #print(\"negative\")\n",
        "      return \"Negatif\"\n",
        "  elif (np.argmax(sentiment) == 1):\n",
        "      #print(\"positive\")\n",
        "      return \"Positif\"\n",
        "#testing(twt)"
      ],
      "execution_count": null,
      "outputs": []
    },
    {
      "cell_type": "markdown",
      "metadata": {
        "id": "RJA4R-Tpq_UE"
      },
      "source": [
        "###**PSBB Transisi**"
      ]
    },
    {
      "cell_type": "code",
      "metadata": {
        "id": "rsZk28zQq_UE",
        "colab": {
          "base_uri": "https://localhost:8080/",
          "height": 203
        },
        "outputId": "4b2ee3d2-678d-463b-d10a-3f43799439f7"
      },
      "source": [
        "df_transisi = pd.read_csv('psbb_transisi.csv')\n",
        "df_transisi.head(10)\n",
        "df_transisi = df_transisi.drop(df_transisi.iloc[:, :10], inplace = False, axis = 1)\n",
        "df_transisi = df_transisi.drop(df_transisi.iloc[:, 1:], inplace = False, axis = 1)\n",
        "\n",
        "df_transisi['tweet'] = df_transisi['tweet'].apply(lambda x: x.lower())\n",
        "df_transisi['tweet'] = df_transisi['tweet'].apply((lambda x: re.sub('[^a-zA-z0-9\\s]','',x)))\n",
        "df_transisi['tweet'] = df_transisi['tweet'].apply((lambda x: re.sub('rt','',x)))\n",
        "df_transisi['tweet'] = df_transisi['tweet'].apply((lambda x: re.sub('^\\s+|\\s+$','',x)))\n",
        "df_transisi.head()\n"
      ],
      "execution_count": null,
      "outputs": [
        {
          "output_type": "execute_result",
          "data": {
            "text/html": [
              "<div>\n",
              "<style scoped>\n",
              "    .dataframe tbody tr th:only-of-type {\n",
              "        vertical-align: middle;\n",
              "    }\n",
              "\n",
              "    .dataframe tbody tr th {\n",
              "        vertical-align: top;\n",
              "    }\n",
              "\n",
              "    .dataframe thead th {\n",
              "        text-align: right;\n",
              "    }\n",
              "</style>\n",
              "<table border=\"1\" class=\"dataframe\">\n",
              "  <thead>\n",
              "    <tr style=\"text-align: right;\">\n",
              "      <th></th>\n",
              "      <th>tweet</th>\n",
              "    </tr>\n",
              "  </thead>\n",
              "  <tbody>\n",
              "    <tr>\n",
              "      <th>0</th>\n",
              "      <td>pergub baru anies motor pribadi kena ganjil ge...</td>\n",
              "    </tr>\n",
              "    <tr>\n",
              "      <th>1</th>\n",
              "      <td>padahal transpoasi umum fav gue bgt sebelum co...</td>\n",
              "    </tr>\n",
              "    <tr>\n",
              "      <th>2</th>\n",
              "      <td>kompastv dari berita udh banyak sekali  para p...</td>\n",
              "    </tr>\n",
              "    <tr>\n",
              "      <th>3</th>\n",
              "      <td>pergub baru anies motor pribadi kena ganjil ge...</td>\n",
              "    </tr>\n",
              "    <tr>\n",
              "      <th>4</th>\n",
              "      <td>psbb ini bakal berakhir bentar lagi gatau mau ...</td>\n",
              "    </tr>\n",
              "  </tbody>\n",
              "</table>\n",
              "</div>"
            ],
            "text/plain": [
              "                                               tweet\n",
              "0  pergub baru anies motor pribadi kena ganjil ge...\n",
              "1  padahal transpoasi umum fav gue bgt sebelum co...\n",
              "2  kompastv dari berita udh banyak sekali  para p...\n",
              "3  pergub baru anies motor pribadi kena ganjil ge...\n",
              "4  psbb ini bakal berakhir bentar lagi gatau mau ..."
            ]
          },
          "metadata": {
            "tags": []
          },
          "execution_count": 37
        }
      ]
    },
    {
      "cell_type": "code",
      "metadata": {
        "id": "Q7NvyJXrq_UF",
        "colab": {
          "base_uri": "https://localhost:8080/"
        },
        "outputId": "223330ef-6615-4469-f998-0b132f8e18af"
      },
      "source": [
        "label = []\n",
        "print(len(df_transisi['tweet']))\n",
        "for item in range(len(df_transisi['tweet'])):\n",
        "  label.append(testing(df_transisi['tweet'][item]))\n",
        "label\n",
        "df_transisi['Label'] = pd.Series(label, index=df_transisi.index)"
      ],
      "execution_count": null,
      "outputs": [
        {
          "output_type": "stream",
          "text": [
            "100\n",
            "WARNING:tensorflow:Model was constructed with shape (None, 25) for input KerasTensor(type_spec=TensorSpec(shape=(None, 25), dtype=tf.float32, name='embedding_input'), name='embedding_input', description=\"created by layer 'embedding_input'\"), but it was called on an input with incompatible shape (1, 64).\n",
            "88/88 [==============================] - 2s 8ms/step\n",
            "175/175 [==============================] - 1s 8ms/step\n",
            "200/200 [==============================] - 2s 9ms/step\n",
            "88/88 [==============================] - 1s 8ms/step\n",
            "187/187 [==============================] - 1s 8ms/step\n",
            "84/84 [==============================] - 1s 9ms/step\n",
            "115/115 [==============================] - 1s 7ms/step\n",
            "88/88 [==============================] - 1s 9ms/step\n",
            "193/193 [==============================] - 2s 8ms/step\n",
            "282/282 [==============================] - 2s 8ms/step\n",
            "68/68 [==============================] - 1s 8ms/step\n",
            "67/67 [==============================] - 1s 8ms/step\n",
            "282/282 [==============================] - 2s 8ms/step\n",
            "88/88 [==============================] - 1s 8ms/step\n",
            "272/272 [==============================] - 2s 8ms/step\n",
            "192/192 [==============================] - 1s 8ms/step\n",
            "281/281 [==============================] - 2s 8ms/step\n",
            "88/88 [==============================] - 1s 8ms/step\n",
            "88/88 [==============================] - 1s 8ms/step\n",
            "164/164 [==============================] - 1s 8ms/step\n",
            "205/205 [==============================] - 2s 7ms/step\n",
            "124/124 [==============================] - 1s 8ms/step\n",
            "267/267 [==============================] - 2s 8ms/step\n",
            "88/88 [==============================] - 1s 8ms/step\n",
            "196/196 [==============================] - 1s 8ms/step\n",
            "186/186 [==============================] - 1s 8ms/step\n",
            "160/160 [==============================] - 1s 8ms/step\n",
            "233/233 [==============================] - 2s 8ms/step\n",
            "165/165 [==============================] - 1s 8ms/step\n",
            "165/165 [==============================] - 1s 8ms/step\n",
            "193/193 [==============================] - 2s 8ms/step\n",
            "76/76 [==============================] - 1s 9ms/step\n",
            "88/88 [==============================] - 1s 8ms/step\n",
            "264/264 [==============================] - 2s 8ms/step\n",
            "88/88 [==============================] - 1s 8ms/step\n",
            "114/114 [==============================] - 1s 7ms/step\n",
            "224/224 [==============================] - 2s 8ms/step\n",
            "97/97 [==============================] - 1s 8ms/step\n",
            "126/126 [==============================] - 1s 8ms/step\n",
            "88/88 [==============================] - 1s 8ms/step\n",
            "136/136 [==============================] - 1s 9ms/step\n",
            "38/38 [==============================] - 0s 8ms/step\n",
            "88/88 [==============================] - 1s 8ms/step\n",
            "240/240 [==============================] - 2s 8ms/step\n",
            "266/266 [==============================] - 2s 8ms/step\n",
            "88/88 [==============================] - 1s 8ms/step\n",
            "88/88 [==============================] - 1s 8ms/step\n",
            "318/318 [==============================] - 3s 8ms/step\n",
            "285/285 [==============================] - 2s 8ms/step\n",
            "203/203 [==============================] - 2s 8ms/step\n",
            "97/97 [==============================] - 1s 9ms/step\n",
            "170/170 [==============================] - 1s 8ms/step\n",
            "303/303 [==============================] - 2s 8ms/step\n",
            "58/58 [==============================] - 1s 10ms/step\n",
            "96/96 [==============================] - 1s 8ms/step\n",
            "251/251 [==============================] - 2s 8ms/step\n",
            "88/88 [==============================] - 1s 8ms/step\n",
            "88/88 [==============================] - 1s 8ms/step\n",
            "247/247 [==============================] - 2s 8ms/step\n",
            "177/177 [==============================] - 1s 8ms/step\n",
            "256/256 [==============================] - 2s 8ms/step\n",
            "191/191 [==============================] - 2s 9ms/step\n",
            "191/191 [==============================] - 2s 9ms/step\n",
            "164/164 [==============================] - 1s 8ms/step\n",
            "225/225 [==============================] - 2s 8ms/step\n",
            "171/171 [==============================] - 1s 8ms/step\n",
            "95/95 [==============================] - 1s 9ms/step\n",
            "267/267 [==============================] - 2s 8ms/step\n",
            "290/290 [==============================] - 3s 9ms/step\n",
            "196/196 [==============================] - 2s 8ms/step\n",
            "244/244 [==============================] - 2s 8ms/step\n",
            "167/167 [==============================] - 1s 8ms/step\n",
            "246/246 [==============================] - 2s 8ms/step\n",
            "88/88 [==============================] - 1s 8ms/step\n",
            "247/247 [==============================] - 2s 8ms/step\n",
            "87/87 [==============================] - 1s 9ms/step\n",
            "267/267 [==============================] - 2s 8ms/step\n",
            "144/144 [==============================] - 1s 8ms/step\n",
            "50/50 [==============================] - 0s 8ms/step\n",
            "96/96 [==============================] - 1s 9ms/step\n",
            "159/159 [==============================] - 1s 8ms/step\n",
            "248/248 [==============================] - 2s 9ms/step\n",
            "88/88 [==============================] - 1s 8ms/step\n",
            "89/89 [==============================] - 1s 8ms/step\n",
            "106/106 [==============================] - 1s 8ms/step\n",
            "258/258 [==============================] - 2s 8ms/step\n",
            "235/235 [==============================] - 2s 8ms/step\n",
            "240/240 [==============================] - 2s 8ms/step\n",
            "126/126 [==============================] - 1s 8ms/step\n",
            "242/242 [==============================] - 2s 8ms/step\n",
            "88/88 [==============================] - 1s 9ms/step\n",
            "73/73 [==============================] - 1s 9ms/step\n",
            "150/150 [==============================] - 1s 8ms/step\n",
            "290/290 [==============================] - 2s 8ms/step\n",
            "225/225 [==============================] - 2s 8ms/step\n",
            "234/234 [==============================] - 2s 8ms/step\n",
            "66/66 [==============================] - 1s 8ms/step\n",
            "139/139 [==============================] - 1s 8ms/step\n",
            "133/133 [==============================] - 1s 8ms/step\n",
            "89/89 [==============================] - 1s 8ms/step\n"
          ],
          "name": "stdout"
        }
      ]
    },
    {
      "cell_type": "code",
      "metadata": {
        "id": "TLizDvLjq_UF",
        "colab": {
          "base_uri": "https://localhost:8080/",
          "height": 203
        },
        "outputId": "db1337ae-0d74-41bb-cad1-ab4bdc1c476a"
      },
      "source": [
        "df_transisi.sample(5)"
      ],
      "execution_count": null,
      "outputs": [
        {
          "output_type": "execute_result",
          "data": {
            "text/html": [
              "<div>\n",
              "<style scoped>\n",
              "    .dataframe tbody tr th:only-of-type {\n",
              "        vertical-align: middle;\n",
              "    }\n",
              "\n",
              "    .dataframe tbody tr th {\n",
              "        vertical-align: top;\n",
              "    }\n",
              "\n",
              "    .dataframe thead th {\n",
              "        text-align: right;\n",
              "    }\n",
              "</style>\n",
              "<table border=\"1\" class=\"dataframe\">\n",
              "  <thead>\n",
              "    <tr style=\"text-align: right;\">\n",
              "      <th></th>\n",
              "      <th>tweet</th>\n",
              "      <th>Label</th>\n",
              "    </tr>\n",
              "  </thead>\n",
              "  <tbody>\n",
              "    <tr>\n",
              "      <th>28</th>\n",
              "      <td>selama periode 14 september hingga 4 oktober 2...</td>\n",
              "      <td>Negatif</td>\n",
              "    </tr>\n",
              "    <tr>\n",
              "      <th>70</th>\n",
              "      <td>lockdown in scale  lockdown ie  italia malaysi...</td>\n",
              "      <td>Negatif</td>\n",
              "    </tr>\n",
              "    <tr>\n",
              "      <th>55</th>\n",
              "      <td>psbb psbb transisi psbb jilid ii psbb mini loc...</td>\n",
              "      <td>Positif</td>\n",
              "    </tr>\n",
              "    <tr>\n",
              "      <th>23</th>\n",
              "      <td>pergub baru anies motor pribadi kena ganjil ge...</td>\n",
              "      <td>Positif</td>\n",
              "    </tr>\n",
              "    <tr>\n",
              "      <th>82</th>\n",
              "      <td>pergub baru anies motor pribadi kena ganjil ge...</td>\n",
              "      <td>Positif</td>\n",
              "    </tr>\n",
              "  </tbody>\n",
              "</table>\n",
              "</div>"
            ],
            "text/plain": [
              "                                                tweet    Label\n",
              "28  selama periode 14 september hingga 4 oktober 2...  Negatif\n",
              "70  lockdown in scale  lockdown ie  italia malaysi...  Negatif\n",
              "55  psbb psbb transisi psbb jilid ii psbb mini loc...  Positif\n",
              "23  pergub baru anies motor pribadi kena ganjil ge...  Positif\n",
              "82  pergub baru anies motor pribadi kena ganjil ge...  Positif"
            ]
          },
          "metadata": {
            "tags": []
          },
          "execution_count": 59
        }
      ]
    },
    {
      "cell_type": "code",
      "metadata": {
        "colab": {
          "base_uri": "https://localhost:8080/"
        },
        "id": "d8r0WihZ_94W",
        "outputId": "b6dbe216-4be9-4f86-a45e-102c5a89a52a"
      },
      "source": [
        "hasil_transisi = df_transisi.sample(5)\n",
        "hasil_transisi =pd.DataFrame(hasil_transisi)\n",
        "print(hasil_transisi)\n"
      ],
      "execution_count": null,
      "outputs": [
        {
          "output_type": "stream",
          "text": [
            "                                                tweet    Label\n",
            "7   pergub baru anies motor pribadi kena ganjil ge...  Positif\n",
            "87  dr tia  vaksin bukan obat pa  psbb covid19 cor...  Negatif\n",
            "4   psbb ini bakal berakhir bentar lagi gatau mau ...  Positif\n",
            "85  daripada memperbanyak terminologi program sepe...  Negatif\n",
            "96  kompastv mana buktinya  gak ada bedanya sama p...  Positif\n"
          ],
          "name": "stdout"
        }
      ]
    },
    {
      "cell_type": "code",
      "metadata": {
        "id": "WmoopgvXAyse"
      },
      "source": [
        "filepath ='hasil_transisi.csv'\n",
        "hasil_transisi.to_csv(filepath, index=False)"
      ],
      "execution_count": null,
      "outputs": []
    },
    {
      "cell_type": "code",
      "metadata": {
        "colab": {
          "base_uri": "https://localhost:8080/",
          "height": 312
        },
        "id": "e_7gwfFy_rN9",
        "outputId": "68207849-f2df-482f-a678-4af6681e2ce3"
      },
      "source": [
        "df_transisi['Label'].value_counts().plot(kind='bar')"
      ],
      "execution_count": null,
      "outputs": [
        {
          "output_type": "execute_result",
          "data": {
            "text/plain": [
              "<matplotlib.axes._subplots.AxesSubplot at 0x7f5e47b02350>"
            ]
          },
          "metadata": {
            "tags": []
          },
          "execution_count": 40
        },
        {
          "output_type": "display_data",
          "data": {
            "image/png": "[encoded data removed]",
            "text/plain": [
              "<Figure size 432x288 with 1 Axes>"
            ]
          },
          "metadata": {
            "tags": [],
            "needs_background": "light"
          }
        }
      ]
    },
    {
      "cell_type": "code",
      "metadata": {
        "colab": {
          "base_uri": "https://localhost:8080/",
          "height": 265
        },
        "id": "C8MA3MFrJ9hh",
        "outputId": "5a05ff41-b6b0-4565-a183-615e56e88f69"
      },
      "source": [
        "df_transisi['Label'].value_counts().plot(kind='pie', autopct='%1.1f%%')"
      ],
      "execution_count": null,
      "outputs": [
        {
          "output_type": "execute_result",
          "data": {
            "text/plain": [
              "<matplotlib.axes._subplots.AxesSubplot at 0x7f5e481309d0>"
            ]
          },
          "metadata": {
            "tags": []
          },
          "execution_count": 95
        },
        {
          "output_type": "display_data",
          "data": {
            "image/png": "[encoded data removed]",
            "text/plain": [
              "<Figure size 432x288 with 1 Axes>"
            ]
          },
          "metadata": {
            "tags": []
          }
        }
      ]
    },
    {
      "cell_type": "markdown",
      "metadata": {
        "id": "piwKrF0ipj-S"
      },
      "source": [
        "###**PSBB Total**"
      ]
    },
    {
      "cell_type": "code",
      "metadata": {
        "id": "pcjUXfbdro3W",
        "colab": {
          "base_uri": "https://localhost:8080/",
          "height": 203
        },
        "outputId": "8336b4b4-b985-4e26-aafa-5243405612bf"
      },
      "source": [
        "df_total = pd.read_csv('psbb_total.csv')\n",
        "df_total = df_total = df_total.drop(df_total.iloc[:, :10], inplace = False, axis = 1)\n",
        "df_total = df_total.drop(df_total.iloc[:, 1:], inplace = False, axis = 1)\n",
        "\n",
        "df_total['tweet'] = df_total['tweet'].apply(lambda x: x.lower())\n",
        "df_total['tweet'] = df_total['tweet'].apply((lambda x: re.sub('[^a-zA-z0-9\\s]','',x)))\n",
        "df_total['tweet'] = df_total['tweet'].apply((lambda x: re.sub('rt','',x)))\n",
        "df_total['tweet'] = df_total['tweet'].apply((lambda x: re.sub('^\\s+|\\s+$','',x)))\n",
        "df_total.head()"
      ],
      "execution_count": null,
      "outputs": [
        {
          "output_type": "execute_result",
          "data": {
            "text/html": [
              "<div>\n",
              "<style scoped>\n",
              "    .dataframe tbody tr th:only-of-type {\n",
              "        vertical-align: middle;\n",
              "    }\n",
              "\n",
              "    .dataframe tbody tr th {\n",
              "        vertical-align: top;\n",
              "    }\n",
              "\n",
              "    .dataframe thead th {\n",
              "        text-align: right;\n",
              "    }\n",
              "</style>\n",
              "<table border=\"1\" class=\"dataframe\">\n",
              "  <thead>\n",
              "    <tr style=\"text-align: right;\">\n",
              "      <th></th>\n",
              "      <th>tweet</th>\n",
              "    </tr>\n",
              "  </thead>\n",
              "  <tbody>\n",
              "    <tr>\n",
              "      <th>0</th>\n",
              "      <td>asli deh salut sm pemerintah korea yang penang...</td>\n",
              "    </tr>\n",
              "    <tr>\n",
              "      <th>1</th>\n",
              "      <td>klo klasternya ga berkurang bakal di psbb total</td>\n",
              "    </tr>\n",
              "    <tr>\n",
              "      <th>2</th>\n",
              "      <td>total pelanggar operasi yustisi psbb transisi ...</td>\n",
              "    </tr>\n",
              "    <tr>\n",
              "      <th>3</th>\n",
              "      <td>pas baru bgt ada psbb dan itu total akses kelu...</td>\n",
              "    </tr>\n",
              "    <tr>\n",
              "      <th>4</th>\n",
              "      <td>bener abis psbb total peama kemarin terus naik...</td>\n",
              "    </tr>\n",
              "  </tbody>\n",
              "</table>\n",
              "</div>"
            ],
            "text/plain": [
              "                                               tweet\n",
              "0  asli deh salut sm pemerintah korea yang penang...\n",
              "1    klo klasternya ga berkurang bakal di psbb total\n",
              "2  total pelanggar operasi yustisi psbb transisi ...\n",
              "3  pas baru bgt ada psbb dan itu total akses kelu...\n",
              "4  bener abis psbb total peama kemarin terus naik..."
            ]
          },
          "metadata": {
            "tags": []
          },
          "execution_count": 35
        }
      ]
    },
    {
      "cell_type": "code",
      "metadata": {
        "id": "OAekN9yNro3W",
        "colab": {
          "base_uri": "https://localhost:8080/"
        },
        "outputId": "61793de6-0689-4183-e28a-78d0a8deb4ca"
      },
      "source": [
        "label = []\n",
        "print(len(df_total['tweet']))\n",
        "for item in range(len(df_total['tweet'])):\n",
        "  label.append(testing(df_total['tweet'][item]))\n",
        "label\n",
        "df_total['Label'] = pd.Series(label, index=df_total.index)"
      ],
      "execution_count": null,
      "outputs": [
        {
          "output_type": "stream",
          "text": [
            "54\n",
            "262/262 [==============================] - 2s 8ms/step\n",
            "47/47 [==============================] - 0s 8ms/step\n",
            "202/202 [==============================] - 2s 9ms/step\n",
            "260/260 [==============================] - 2s 8ms/step\n",
            "83/83 [==============================] - 1s 8ms/step\n",
            "67/67 [==============================] - 1s 9ms/step\n",
            "167/167 [==============================] - 1s 8ms/step\n",
            "104/104 [==============================] - 1s 8ms/step\n",
            "93/93 [==============================] - 1s 8ms/step\n",
            "128/128 [==============================] - 1s 8ms/step\n",
            "141/141 [==============================] - 1s 8ms/step\n",
            "295/295 [==============================] - 2s 8ms/step\n",
            "159/159 [==============================] - 1s 9ms/step\n",
            "178/178 [==============================] - 1s 8ms/step\n",
            "291/291 [==============================] - 2s 8ms/step\n",
            "89/89 [==============================] - 1s 8ms/step\n",
            "47/47 [==============================] - 0s 8ms/step\n",
            "84/84 [==============================] - 1s 8ms/step\n",
            "66/66 [==============================] - 1s 10ms/step\n",
            "66/66 [==============================] - 1s 9ms/step\n",
            "63/63 [==============================] - 1s 9ms/step\n",
            "292/292 [==============================] - 2s 8ms/step\n",
            "82/82 [==============================] - 1s 8ms/step\n",
            "94/94 [==============================] - 1s 9ms/step\n",
            "113/113 [==============================] - 1s 8ms/step\n",
            "236/236 [==============================] - 2s 9ms/step\n",
            "66/66 [==============================] - 1s 9ms/step\n",
            "44/44 [==============================] - 0s 8ms/step\n",
            "132/132 [==============================] - 1s 8ms/step\n",
            "180/180 [==============================] - 1s 8ms/step\n",
            "138/138 [==============================] - 1s 8ms/step\n",
            "251/251 [==============================] - 2s 9ms/step\n",
            "121/121 [==============================] - 1s 8ms/step\n",
            "84/84 [==============================] - 1s 8ms/step\n",
            "280/280 [==============================] - 2s 8ms/step\n",
            "73/73 [==============================] - 1s 8ms/step\n",
            "269/269 [==============================] - 2s 8ms/step\n",
            "117/117 [==============================] - 1s 9ms/step\n",
            "118/118 [==============================] - 1s 8ms/step\n",
            "148/148 [==============================] - 1s 8ms/step\n",
            "190/190 [==============================] - 1s 8ms/step\n",
            "64/64 [==============================] - 1s 8ms/step\n",
            "86/86 [==============================] - 1s 8ms/step\n",
            "93/93 [==============================] - 1s 9ms/step\n",
            "72/72 [==============================] - 1s 8ms/step\n",
            "250/250 [==============================] - 2s 8ms/step\n",
            "97/97 [==============================] - 1s 8ms/step\n",
            "113/113 [==============================] - 1s 8ms/step\n",
            "153/153 [==============================] - 1s 9ms/step\n",
            "72/72 [==============================] - 1s 8ms/step\n",
            "175/175 [==============================] - 1s 8ms/step\n",
            "139/139 [==============================] - 1s 8ms/step\n",
            "282/282 [==============================] - 2s 8ms/step\n",
            "103/103 [==============================] - 1s 8ms/step\n"
          ],
          "name": "stdout"
        }
      ]
    },
    {
      "cell_type": "code",
      "metadata": {
        "colab": {
          "base_uri": "https://localhost:8080/",
          "height": 203
        },
        "id": "YqeMSFvm_vjr",
        "outputId": "3a687e4a-b7b6-4791-db82-4452e82d3807"
      },
      "source": [
        "df_total.sample(5)"
      ],
      "execution_count": null,
      "outputs": [
        {
          "output_type": "execute_result",
          "data": {
            "text/html": [
              "<div>\n",
              "<style scoped>\n",
              "    .dataframe tbody tr th:only-of-type {\n",
              "        vertical-align: middle;\n",
              "    }\n",
              "\n",
              "    .dataframe tbody tr th {\n",
              "        vertical-align: top;\n",
              "    }\n",
              "\n",
              "    .dataframe thead th {\n",
              "        text-align: right;\n",
              "    }\n",
              "</style>\n",
              "<table border=\"1\" class=\"dataframe\">\n",
              "  <thead>\n",
              "    <tr style=\"text-align: right;\">\n",
              "      <th></th>\n",
              "      <th>tweet</th>\n",
              "      <th>Label</th>\n",
              "    </tr>\n",
              "  </thead>\n",
              "  <tbody>\n",
              "    <tr>\n",
              "      <th>39</th>\n",
              "      <td>then whats your story tell me on monday ok   g...</td>\n",
              "      <td>Positif</td>\n",
              "    </tr>\n",
              "    <tr>\n",
              "      <th>48</th>\n",
              "      <td>reiza_patters fuck lah buat si botak depanbela...</td>\n",
              "      <td>Positif</td>\n",
              "    </tr>\n",
              "    <tr>\n",
              "      <th>40</th>\n",
              "      <td>agusyudhoyono caranya biar saya dapet sumbanga...</td>\n",
              "      <td>Negatif</td>\n",
              "    </tr>\n",
              "    <tr>\n",
              "      <th>44</th>\n",
              "      <td>ah bisa2an aje media biar di lakuin psbb total...</td>\n",
              "      <td>Negatif</td>\n",
              "    </tr>\n",
              "    <tr>\n",
              "      <th>45</th>\n",
              "      <td>mana yang betul et    beberapa teman japri men...</td>\n",
              "      <td>Positif</td>\n",
              "    </tr>\n",
              "  </tbody>\n",
              "</table>\n",
              "</div>"
            ],
            "text/plain": [
              "                                                tweet    Label\n",
              "39  then whats your story tell me on monday ok   g...  Positif\n",
              "48  reiza_patters fuck lah buat si botak depanbela...  Positif\n",
              "40  agusyudhoyono caranya biar saya dapet sumbanga...  Negatif\n",
              "44  ah bisa2an aje media biar di lakuin psbb total...  Negatif\n",
              "45  mana yang betul et    beberapa teman japri men...  Positif"
            ]
          },
          "metadata": {
            "tags": []
          },
          "execution_count": 56
        }
      ]
    },
    {
      "cell_type": "code",
      "metadata": {
        "colab": {
          "base_uri": "https://localhost:8080/"
        },
        "id": "KXmDX8UHBStM",
        "outputId": "b29e3712-8fc9-4367-d360-4efd237e7d49"
      },
      "source": [
        "hasil_total = df_total.sample(5)\n",
        "hasil_total =pd.DataFrame(hasil_total)\n",
        "print(hasil_total)\n"
      ],
      "execution_count": null,
      "outputs": [
        {
          "output_type": "stream",
          "text": [
            "                                                tweet    Label\n",
            "26  prasetyoedi_ psbb total bikin susah usahawan a...  Positif\n",
            "22  meusaeternus kemaren waktu psbb total berlaku ...  Positif\n",
            "3   pas baru bgt ada psbb dan itu total akses kelu...  Positif\n",
            "8   demo uu ciptaker kan sampai 28 oktbr sesudah 9...  Negatif\n",
            "25  abouttng kalo alasannya revitalisasi masyaraka...  Negatif\n"
          ],
          "name": "stdout"
        }
      ]
    },
    {
      "cell_type": "code",
      "metadata": {
        "id": "mB0H8dqoBStN"
      },
      "source": [
        "filepath ='hasil_total.csv'\n",
        "hasil_total.to_csv(filepath, index=False)"
      ],
      "execution_count": null,
      "outputs": []
    },
    {
      "cell_type": "code",
      "metadata": {
        "colab": {
          "base_uri": "https://localhost:8080/",
          "height": 309
        },
        "id": "vlFeTU7p_vjr",
        "outputId": "ffce37b0-e20a-4732-c833-cc9b57e347fd"
      },
      "source": [
        "df_total['Label'].value_counts().plot(kind='bar')"
      ],
      "execution_count": null,
      "outputs": [
        {
          "output_type": "execute_result",
          "data": {
            "text/plain": [
              "<matplotlib.axes._subplots.AxesSubplot at 0x7f5e540d8110>"
            ]
          },
          "metadata": {
            "tags": []
          },
          "execution_count": 43
        },
        {
          "output_type": "display_data",
          "data": {
            "image/png": "[encoded data removed]",
            "text/plain": [
              "<Figure size 432x288 with 1 Axes>"
            ]
          },
          "metadata": {
            "tags": [],
            "needs_background": "light"
          }
        }
      ]
    },
    {
      "cell_type": "code",
      "metadata": {
        "colab": {
          "base_uri": "https://localhost:8080/",
          "height": 265
        },
        "id": "yMNTpbDoKU2E",
        "outputId": "ae9bf18d-27fa-41c7-e906-950bde3b331c"
      },
      "source": [
        "df_total['Label'].value_counts().plot(kind='pie', autopct='%1.1f%%')"
      ],
      "execution_count": null,
      "outputs": [
        {
          "output_type": "execute_result",
          "data": {
            "text/plain": [
              "<matplotlib.axes._subplots.AxesSubplot at 0x7f5e48102390>"
            ]
          },
          "metadata": {
            "tags": []
          },
          "execution_count": 96
        },
        {
          "output_type": "display_data",
          "data": {
            "image/png": "[encoded data removed]",
            "text/plain": [
              "<Figure size 432x288 with 1 Axes>"
            ]
          },
          "metadata": {
            "tags": []
          }
        }
      ]
    },
    {
      "cell_type": "markdown",
      "metadata": {
        "id": "lDYGDeNBp6RS"
      },
      "source": [
        "###**PPKM Mikro**"
      ]
    },
    {
      "cell_type": "code",
      "metadata": {
        "id": "O6VZfi7kring",
        "colab": {
          "base_uri": "https://localhost:8080/",
          "height": 203
        },
        "outputId": "c4ffc422-539d-427a-a68e-0ecf22d7c57b"
      },
      "source": [
        "df_mikro = pd.read_csv(\"ppkm_mikro.csv\")\n",
        "df_mikro = df_mikro.drop(df_mikro.iloc[:, :10], inplace = False, axis = 1)\n",
        "df_mikro = df_mikro.drop(df_mikro.iloc[:, 1:], inplace = False, axis = 1)\n",
        "\n",
        "df_mikro['tweet'] = df_mikro['tweet'].apply(lambda x: x.lower())\n",
        "df_mikro['tweet'] = df_mikro['tweet'].apply((lambda x: re.sub('[^a-zA-z0-9\\s]','',x)))\n",
        "df_mikro['tweet'] = df_mikro['tweet'].apply((lambda x: re.sub('rt','',x)))\n",
        "df_mikro['tweet'] = df_mikro['tweet'].apply((lambda x: re.sub('^\\s+|\\s+$','',x)))\n",
        "df_mikro.head()"
      ],
      "execution_count": null,
      "outputs": [
        {
          "output_type": "execute_result",
          "data": {
            "text/html": [
              "<div>\n",
              "<style scoped>\n",
              "    .dataframe tbody tr th:only-of-type {\n",
              "        vertical-align: middle;\n",
              "    }\n",
              "\n",
              "    .dataframe tbody tr th {\n",
              "        vertical-align: top;\n",
              "    }\n",
              "\n",
              "    .dataframe thead th {\n",
              "        text-align: right;\n",
              "    }\n",
              "</style>\n",
              "<table border=\"1\" class=\"dataframe\">\n",
              "  <thead>\n",
              "    <tr style=\"text-align: right;\">\n",
              "      <th></th>\n",
              "      <th>tweet</th>\n",
              "    </tr>\n",
              "  </thead>\n",
              "  <tbody>\n",
              "    <tr>\n",
              "      <th>0</th>\n",
              "      <td>pemerintah memutuskan memperpanjang ppkm mikro...</td>\n",
              "    </tr>\n",
              "    <tr>\n",
              "      <th>1</th>\n",
              "      <td>ppkm mikro jilid ii  peritel minta jam operasi...</td>\n",
              "    </tr>\n",
              "    <tr>\n",
              "      <th>2</th>\n",
              "      <td>pastikan pelaksanaan ppkm mikro bupati sidak k...</td>\n",
              "    </tr>\n",
              "    <tr>\n",
              "      <th>3</th>\n",
              "      <td>yuk dukung pelaksanaan pembatasan kegiatan mas...</td>\n",
              "    </tr>\n",
              "    <tr>\n",
              "      <th>4</th>\n",
              "      <td>kembali operasi aman nusa ii edukasi masyaraka...</td>\n",
              "    </tr>\n",
              "  </tbody>\n",
              "</table>\n",
              "</div>"
            ],
            "text/plain": [
              "                                               tweet\n",
              "0  pemerintah memutuskan memperpanjang ppkm mikro...\n",
              "1  ppkm mikro jilid ii  peritel minta jam operasi...\n",
              "2  pastikan pelaksanaan ppkm mikro bupati sidak k...\n",
              "3  yuk dukung pelaksanaan pembatasan kegiatan mas...\n",
              "4  kembali operasi aman nusa ii edukasi masyaraka..."
            ]
          },
          "metadata": {
            "tags": []
          },
          "execution_count": 44
        }
      ]
    },
    {
      "cell_type": "code",
      "metadata": {
        "id": "D-TJul19rinh",
        "colab": {
          "base_uri": "https://localhost:8080/"
        },
        "outputId": "332a5091-4cad-45fe-f58c-61c9c09981a8"
      },
      "source": [
        "label = []\n",
        "print(len(df_mikro['tweet']))\n",
        "for item in range(len(df_mikro['tweet'])):\n",
        "  label.append(testing(df_mikro['tweet'][item]))\n",
        "label\n",
        "df_mikro['Label'] = pd.Series(label, index=df_mikro.index)"
      ],
      "execution_count": null,
      "outputs": [
        {
          "output_type": "stream",
          "text": [
            "195\n",
            "171/171 [==============================] - 1s 8ms/step\n",
            "79/79 [==============================] - 1s 9ms/step\n",
            "72/72 [==============================] - 1s 8ms/step\n",
            "149/149 [==============================] - 1s 8ms/step\n",
            "92/92 [==============================] - 1s 8ms/step\n",
            "265/265 [==============================] - 2s 8ms/step\n",
            "58/58 [==============================] - 0s 8ms/step\n",
            "115/115 [==============================] - 1s 8ms/step\n",
            "163/163 [==============================] - 1s 8ms/step\n",
            "163/163 [==============================] - 1s 9ms/step\n",
            "171/171 [==============================] - 1s 8ms/step\n",
            "168/168 [==============================] - 1s 8ms/step\n",
            "190/190 [==============================] - 2s 8ms/step\n",
            "70/70 [==============================] - 1s 9ms/step\n",
            "45/45 [==============================] - 0s 9ms/step\n",
            "109/109 [==============================] - 1s 9ms/step\n",
            "78/78 [==============================] - 1s 8ms/step\n",
            "47/47 [==============================] - 0s 9ms/step\n",
            "92/92 [==============================] - 1s 9ms/step\n",
            "88/88 [==============================] - 1s 8ms/step\n",
            "142/142 [==============================] - 1s 9ms/step\n",
            "70/70 [==============================] - 1s 8ms/step\n",
            "203/203 [==============================] - 2s 9ms/step\n",
            "64/64 [==============================] - 1s 9ms/step\n",
            "70/70 [==============================] - 1s 9ms/step\n",
            "152/152 [==============================] - 1s 9ms/step\n",
            "69/69 [==============================] - 1s 9ms/step\n",
            "213/213 [==============================] - 2s 9ms/step\n",
            "103/103 [==============================] - 1s 9ms/step\n",
            "104/104 [==============================] - 1s 8ms/step\n",
            "86/86 [==============================] - 1s 9ms/step\n",
            "80/80 [==============================] - 1s 8ms/step\n",
            "87/87 [==============================] - 1s 8ms/step\n",
            "252/252 [==============================] - 2s 9ms/step\n",
            "79/79 [==============================] - 1s 9ms/step\n",
            "196/196 [==============================] - 2s 9ms/step\n",
            "206/206 [==============================] - 2s 9ms/step\n",
            "169/169 [==============================] - 2s 9ms/step\n",
            "152/152 [==============================] - 1s 9ms/step\n",
            "206/206 [==============================] - 2s 8ms/step\n",
            "192/192 [==============================] - 2s 8ms/step\n",
            "198/198 [==============================] - 2s 8ms/step\n",
            "191/191 [==============================] - 2s 8ms/step\n",
            "45/45 [==============================] - 0s 10ms/step\n",
            "200/200 [==============================] - 2s 8ms/step\n",
            "227/227 [==============================] - 2s 9ms/step\n",
            "200/200 [==============================] - 2s 9ms/step\n",
            "142/142 [==============================] - 1s 9ms/step\n",
            "143/143 [==============================] - 1s 9ms/step\n",
            "266/266 [==============================] - 2s 8ms/step\n",
            "228/228 [==============================] - 2s 8ms/step\n",
            "200/200 [==============================] - 2s 8ms/step\n",
            "96/96 [==============================] - 1s 8ms/step\n",
            "200/200 [==============================] - 2s 8ms/step\n",
            "81/81 [==============================] - 1s 9ms/step\n",
            "70/70 [==============================] - 1s 9ms/step\n",
            "134/134 [==============================] - 1s 8ms/step\n",
            "98/98 [==============================] - 1s 9ms/step\n",
            "72/72 [==============================] - 1s 8ms/step\n",
            "101/101 [==============================] - 1s 8ms/step\n",
            "102/102 [==============================] - 1s 8ms/step\n",
            "122/122 [==============================] - 1s 9ms/step\n",
            "218/218 [==============================] - 2s 9ms/step\n",
            "75/75 [==============================] - 1s 9ms/step\n",
            "104/104 [==============================] - 1s 9ms/step\n",
            "68/68 [==============================] - 1s 9ms/step\n",
            "200/200 [==============================] - 2s 8ms/step\n",
            "61/61 [==============================] - 1s 9ms/step\n",
            "86/86 [==============================] - 1s 8ms/step\n",
            "68/68 [==============================] - 1s 8ms/step\n",
            "71/71 [==============================] - 1s 8ms/step\n",
            "74/74 [==============================] - 1s 8ms/step\n",
            "117/117 [==============================] - 1s 8ms/step\n",
            "200/200 [==============================] - 2s 9ms/step\n",
            "277/277 [==============================] - 3s 9ms/step\n",
            "94/94 [==============================] - 1s 10ms/step\n",
            "280/280 [==============================] - 3s 9ms/step\n",
            "188/188 [==============================] - 2s 9ms/step\n",
            "200/200 [==============================] - 2s 8ms/step\n",
            "269/269 [==============================] - 2s 9ms/step\n",
            "186/186 [==============================] - 2s 8ms/step\n",
            "79/79 [==============================] - 1s 9ms/step\n",
            "285/285 [==============================] - 2s 8ms/step\n",
            "79/79 [==============================] - 1s 9ms/step\n",
            "95/95 [==============================] - 1s 8ms/step\n",
            "289/289 [==============================] - 2s 8ms/step\n",
            "97/97 [==============================] - 1s 8ms/step\n",
            "97/97 [==============================] - 1s 8ms/step\n",
            "97/97 [==============================] - 1s 8ms/step\n",
            "86/86 [==============================] - 1s 8ms/step\n",
            "91/91 [==============================] - 1s 9ms/step\n",
            "71/71 [==============================] - 1s 9ms/step\n",
            "268/268 [==============================] - 2s 9ms/step\n",
            "120/120 [==============================] - 1s 9ms/step\n",
            "76/76 [==============================] - 1s 9ms/step\n",
            "283/283 [==============================] - 3s 9ms/step\n",
            "251/251 [==============================] - 2s 9ms/step\n",
            "163/163 [==============================] - 1s 9ms/step\n",
            "89/89 [==============================] - 1s 8ms/step\n",
            "72/72 [==============================] - 1s 8ms/step\n",
            "96/96 [==============================] - 1s 9ms/step\n",
            "200/200 [==============================] - 2s 9ms/step\n",
            "159/159 [==============================] - 1s 8ms/step\n",
            "72/72 [==============================] - 1s 8ms/step\n",
            "103/103 [==============================] - 1s 8ms/step\n",
            "163/163 [==============================] - 1s 9ms/step\n",
            "107/107 [==============================] - 1s 9ms/step\n",
            "69/69 [==============================] - 1s 9ms/step\n",
            "18/18 [==============================] - 0s 10ms/step\n",
            "74/74 [==============================] - 1s 9ms/step\n",
            "204/204 [==============================] - 2s 9ms/step\n",
            "77/77 [==============================] - 1s 8ms/step\n",
            "257/257 [==============================] - 2s 8ms/step\n",
            "145/145 [==============================] - 1s 9ms/step\n",
            "96/96 [==============================] - 1s 8ms/step\n",
            "105/105 [==============================] - 1s 8ms/step\n",
            "286/286 [==============================] - 2s 9ms/step\n",
            "160/160 [==============================] - 1s 8ms/step\n",
            "146/146 [==============================] - 1s 8ms/step\n",
            "125/125 [==============================] - 1s 8ms/step\n",
            "167/167 [==============================] - 1s 8ms/step\n",
            "200/200 [==============================] - 2s 9ms/step\n",
            "71/71 [==============================] - 1s 10ms/step\n",
            "105/105 [==============================] - 1s 9ms/step\n",
            "106/106 [==============================] - 1s 8ms/step\n",
            "113/113 [==============================] - 1s 9ms/step\n",
            "280/280 [==============================] - 3s 10ms/step\n",
            "290/290 [==============================] - 3s 9ms/step\n",
            "106/106 [==============================] - 1s 9ms/step\n",
            "290/290 [==============================] - 3s 9ms/step\n",
            "290/290 [==============================] - 3s 9ms/step\n",
            "291/291 [==============================] - 3s 9ms/step\n",
            "291/291 [==============================] - 3s 9ms/step\n",
            "210/210 [==============================] - 2s 9ms/step\n",
            "291/291 [==============================] - 3s 9ms/step\n",
            "291/291 [==============================] - 2s 8ms/step\n",
            "93/93 [==============================] - 1s 8ms/step\n",
            "91/91 [==============================] - 1s 8ms/step\n",
            "71/71 [==============================] - 1s 8ms/step\n",
            "358/358 [==============================] - 3s 8ms/step\n",
            "261/261 [==============================] - 2s 8ms/step\n",
            "137/137 [==============================] - 1s 9ms/step\n",
            "291/291 [==============================] - 3s 9ms/step\n",
            "120/120 [==============================] - 1s 9ms/step\n",
            "125/125 [==============================] - 1s 9ms/step\n",
            "110/110 [==============================] - 1s 9ms/step\n",
            "173/173 [==============================] - 1s 8ms/step\n",
            "288/288 [==============================] - 2s 8ms/step\n",
            "183/183 [==============================] - 2s 9ms/step\n",
            "173/173 [==============================] - 2s 10ms/step\n",
            "125/125 [==============================] - 1s 8ms/step\n",
            "291/291 [==============================] - 3s 9ms/step\n",
            "225/225 [==============================] - 2s 9ms/step\n",
            "78/78 [==============================] - 1s 9ms/step\n",
            "291/291 [==============================] - 2s 9ms/step\n",
            "288/288 [==============================] - 3s 9ms/step\n",
            "286/286 [==============================] - 2s 9ms/step\n",
            "281/281 [==============================] - 2s 8ms/step\n",
            "289/289 [==============================] - 3s 9ms/step\n",
            "291/291 [==============================] - 3s 9ms/step\n",
            "248/248 [==============================] - 2s 10ms/step\n",
            "186/186 [==============================] - 2s 9ms/step\n",
            "67/67 [==============================] - 1s 8ms/step\n",
            "113/113 [==============================] - 1s 8ms/step\n",
            "200/200 [==============================] - 2s 9ms/step\n",
            "162/162 [==============================] - 1s 8ms/step\n",
            "105/105 [==============================] - 1s 10ms/step\n",
            "105/105 [==============================] - 1s 9ms/step\n",
            "105/105 [==============================] - 1s 9ms/step\n",
            "252/252 [==============================] - 3s 10ms/step\n",
            "87/87 [==============================] - 1s 9ms/step\n",
            "93/93 [==============================] - 1s 9ms/step\n",
            "248/248 [==============================] - 2s 9ms/step\n",
            "203/203 [==============================] - 2s 9ms/step\n",
            "225/225 [==============================] - 2s 9ms/step\n",
            "156/156 [==============================] - 1s 9ms/step\n",
            "153/153 [==============================] - 1s 8ms/step\n",
            "73/73 [==============================] - 1s 9ms/step\n",
            "235/235 [==============================] - 2s 9ms/step\n",
            "240/240 [==============================] - 2s 9ms/step\n",
            "126/126 [==============================] - 1s 8ms/step\n",
            "264/264 [==============================] - 2s 8ms/step\n",
            "173/173 [==============================] - 2s 9ms/step\n",
            "245/245 [==============================] - 2s 9ms/step\n",
            "275/275 [==============================] - 2s 9ms/step\n",
            "174/174 [==============================] - 1s 8ms/step\n",
            "81/81 [==============================] - 1s 8ms/step\n",
            "85/85 [==============================] - 1s 8ms/step\n",
            "241/241 [==============================] - 2s 9ms/step\n",
            "137/137 [==============================] - 1s 10ms/step\n",
            "232/232 [==============================] - 2s 9ms/step\n",
            "94/94 [==============================] - 1s 9ms/step\n",
            "76/76 [==============================] - 1s 8ms/step\n",
            "87/87 [==============================] - 1s 8ms/step\n",
            "60/60 [==============================] - 1s 8ms/step\n"
          ],
          "name": "stdout"
        }
      ]
    },
    {
      "cell_type": "code",
      "metadata": {
        "colab": {
          "base_uri": "https://localhost:8080/",
          "height": 203
        },
        "id": "oCe9AQtV_0Te",
        "outputId": "73d8550c-266d-4742-d1ff-23c55f4a6b8f"
      },
      "source": [
        "df_mikro.sample(5)"
      ],
      "execution_count": null,
      "outputs": [
        {
          "output_type": "execute_result",
          "data": {
            "text/html": [
              "<div>\n",
              "<style scoped>\n",
              "    .dataframe tbody tr th:only-of-type {\n",
              "        vertical-align: middle;\n",
              "    }\n",
              "\n",
              "    .dataframe tbody tr th {\n",
              "        vertical-align: top;\n",
              "    }\n",
              "\n",
              "    .dataframe thead th {\n",
              "        text-align: right;\n",
              "    }\n",
              "</style>\n",
              "<table border=\"1\" class=\"dataframe\">\n",
              "  <thead>\n",
              "    <tr style=\"text-align: right;\">\n",
              "      <th></th>\n",
              "      <th>tweet</th>\n",
              "      <th>Label</th>\n",
              "    </tr>\n",
              "  </thead>\n",
              "  <tbody>\n",
              "    <tr>\n",
              "      <th>70</th>\n",
              "      <td>ppkm mikro kabarnya di perpanjang fix belum ne...</td>\n",
              "      <td>Positif</td>\n",
              "    </tr>\n",
              "    <tr>\n",
              "      <th>76</th>\n",
              "      <td>pemkot klaim ppkm skala mikro turunkan kasus c...</td>\n",
              "      <td>Positif</td>\n",
              "    </tr>\n",
              "    <tr>\n",
              "      <th>126</th>\n",
              "      <td>wujudkan kedisiplinan warga dalam melaksanakan...</td>\n",
              "      <td>Negatif</td>\n",
              "    </tr>\n",
              "    <tr>\n",
              "      <th>146</th>\n",
              "      <td>gubernur khofifah indar parawansa mengatakan a...</td>\n",
              "      <td>Negatif</td>\n",
              "    </tr>\n",
              "    <tr>\n",
              "      <th>5</th>\n",
              "      <td>pemerintah perpanjang ppkm skala mikro di jawa...</td>\n",
              "      <td>Positif</td>\n",
              "    </tr>\n",
              "  </tbody>\n",
              "</table>\n",
              "</div>"
            ],
            "text/plain": [
              "                                                 tweet    Label\n",
              "70   ppkm mikro kabarnya di perpanjang fix belum ne...  Positif\n",
              "76   pemkot klaim ppkm skala mikro turunkan kasus c...  Positif\n",
              "126  wujudkan kedisiplinan warga dalam melaksanakan...  Negatif\n",
              "146  gubernur khofifah indar parawansa mengatakan a...  Negatif\n",
              "5    pemerintah perpanjang ppkm skala mikro di jawa...  Positif"
            ]
          },
          "metadata": {
            "tags": []
          },
          "execution_count": 60
        }
      ]
    },
    {
      "cell_type": "code",
      "metadata": {
        "colab": {
          "base_uri": "https://localhost:8080/"
        },
        "id": "AGHs7rHABe0Y",
        "outputId": "aadfbc40-fba4-4abd-9a6d-ae8e3feb2888"
      },
      "source": [
        "hasil_mikro = df_mikro.sample(5)\n",
        "hasil_mikro =pd.DataFrame(hasil_mikro)\n",
        "print(hasil_mikro)\n"
      ],
      "execution_count": null,
      "outputs": [
        {
          "output_type": "stream",
          "text": [
            "                                                 tweet    Label\n",
            "97   ops yustisi protokol kesehatan dipimpin kspkt ...  Positif\n",
            "187  gubernur khofifah pastikan ppkm mikro diperpan...  Negatif\n",
            "130  colomadusenin tanggal 22 pebruari 2021 seu sug...  Negatif\n",
            "189  pantesan ppkm mikro diklaim berhasil oleh joko...  Positif\n",
            "162  kelurahan songgokeo pionir ppkm mikro kota bat...  Positif\n"
          ],
          "name": "stdout"
        }
      ]
    },
    {
      "cell_type": "code",
      "metadata": {
        "id": "JM1ebduQBe0b"
      },
      "source": [
        "filepath ='hasil_mikro.csv'\n",
        "hasil_mikro.to_csv(filepath, index=False)"
      ],
      "execution_count": null,
      "outputs": []
    },
    {
      "cell_type": "code",
      "metadata": {
        "colab": {
          "base_uri": "https://localhost:8080/",
          "height": 309
        },
        "id": "YNoTXCtl_0Te",
        "outputId": "97dc62d3-dba1-463d-8e16-39f74db977e0"
      },
      "source": [
        "df_mikro['Label'].value_counts().plot(kind='bar')"
      ],
      "execution_count": null,
      "outputs": [
        {
          "output_type": "execute_result",
          "data": {
            "text/plain": [
              "<matplotlib.axes._subplots.AxesSubplot at 0x7f5e479f2410>"
            ]
          },
          "metadata": {
            "tags": []
          },
          "execution_count": 47
        },
        {
          "output_type": "display_data",
          "data": {
            "image/png": "[encoded data removed]",
            "text/plain": [
              "<Figure size 432x288 with 1 Axes>"
            ]
          },
          "metadata": {
            "tags": [],
            "needs_background": "light"
          }
        }
      ]
    },
    {
      "cell_type": "code",
      "metadata": {
        "colab": {
          "base_uri": "https://localhost:8080/",
          "height": 265
        },
        "id": "sLv2NvCXKYhC",
        "outputId": "4e4b1279-47f1-47d4-8891-679bc44a75ed"
      },
      "source": [
        "df_mikro['Label'].value_counts().plot(kind='pie', autopct='%1.1f%%')"
      ],
      "execution_count": null,
      "outputs": [
        {
          "output_type": "execute_result",
          "data": {
            "text/plain": [
              "<matplotlib.axes._subplots.AxesSubplot at 0x7f5e480c2390>"
            ]
          },
          "metadata": {
            "tags": []
          },
          "execution_count": 97
        },
        {
          "output_type": "display_data",
          "data": {
            "image/png": "[encoded data removed]",
            "text/plain": [
              "<Figure size 432x288 with 1 Axes>"
            ]
          },
          "metadata": {
            "tags": []
          }
        }
      ]
    },
    {
      "cell_type": "markdown",
      "metadata": {
        "id": "NqRkekyWq8iw"
      },
      "source": [
        "###**PPKM Darurat**"
      ]
    },
    {
      "cell_type": "code",
      "metadata": {
        "id": "KT0G9c-Yq8ix",
        "colab": {
          "base_uri": "https://localhost:8080/",
          "height": 203
        },
        "outputId": "1106b2f1-088b-4a8c-d489-74a1dd1461cc"
      },
      "source": [
        "df_darurat = pd.read_csv(\"ppkm_darurat.csv\")\n",
        "df_darurat = df_darurat.drop(df_darurat.iloc[:, :10], inplace = False, axis = 1)\n",
        "df_darurat = df_darurat.drop(df_darurat.iloc[:, 1:], inplace = False, axis = 1)\n",
        "\n",
        "df_darurat['tweet'] = df_darurat['tweet'].apply(lambda x: x.lower())\n",
        "df_darurat['tweet'] = df_darurat['tweet'].apply((lambda x: re.sub('[^a-zA-z0-9\\s]','',x)))\n",
        "df_darurat['tweet'] = df_darurat['tweet'].apply((lambda x: re.sub('rt','',x)))\n",
        "df_darurat['tweet'] = df_darurat['tweet'].apply((lambda x: re.sub('^\\s+|\\s+$','',x)))\n",
        "df_darurat.head()"
      ],
      "execution_count": null,
      "outputs": [
        {
          "output_type": "execute_result",
          "data": {
            "text/html": [
              "<div>\n",
              "<style scoped>\n",
              "    .dataframe tbody tr th:only-of-type {\n",
              "        vertical-align: middle;\n",
              "    }\n",
              "\n",
              "    .dataframe tbody tr th {\n",
              "        vertical-align: top;\n",
              "    }\n",
              "\n",
              "    .dataframe thead th {\n",
              "        text-align: right;\n",
              "    }\n",
              "</style>\n",
              "<table border=\"1\" class=\"dataframe\">\n",
              "  <thead>\n",
              "    <tr style=\"text-align: right;\">\n",
              "      <th></th>\n",
              "      <th>tweet</th>\n",
              "    </tr>\n",
              "  </thead>\n",
              "  <tbody>\n",
              "    <tr>\n",
              "      <th>0</th>\n",
              "      <td>jepnchl itu la ppkm</td>\n",
              "    </tr>\n",
              "    <tr>\n",
              "      <th>1</th>\n",
              "      <td>sundingjalila ppkm terus ya</td>\n",
              "    </tr>\n",
              "    <tr>\n",
              "      <th>2</th>\n",
              "      <td>vaksinperkuatimunitas ppkm cegah penyebaran</td>\n",
              "    </tr>\n",
              "    <tr>\n",
              "      <th>3</th>\n",
              "      <td>ppkm peemuanperkenalankhitbahmenikah sungguh n...</td>\n",
              "    </tr>\n",
              "    <tr>\n",
              "      <th>4</th>\n",
              "      <td>mau beli pencil alis taunya ppkm gajadi lagi</td>\n",
              "    </tr>\n",
              "  </tbody>\n",
              "</table>\n",
              "</div>"
            ],
            "text/plain": [
              "                                               tweet\n",
              "0                                jepnchl itu la ppkm\n",
              "1                        sundingjalila ppkm terus ya\n",
              "2        vaksinperkuatimunitas ppkm cegah penyebaran\n",
              "3  ppkm peemuanperkenalankhitbahmenikah sungguh n...\n",
              "4       mau beli pencil alis taunya ppkm gajadi lagi"
            ]
          },
          "metadata": {
            "tags": []
          },
          "execution_count": 48
        }
      ]
    },
    {
      "cell_type": "code",
      "metadata": {
        "id": "qpObP7Q4q8ix",
        "colab": {
          "base_uri": "https://localhost:8080/"
        },
        "outputId": "98173d18-e7fd-425f-eac9-bb379b827d99"
      },
      "source": [
        "label = []\n",
        "print(len(df_darurat['tweet']))\n",
        "for item in range(len(df_darurat['tweet'])):\n",
        "  label.append(testing(df_darurat['tweet'][item]))\n",
        "label\n",
        "df_darurat['Label'] = pd.Series(label, index=df_darurat.index)"
      ],
      "execution_count": null,
      "outputs": [
        {
          "output_type": "stream",
          "text": [
            "100\n",
            "19/19 [==============================] - 0s 9ms/step\n",
            "27/27 [==============================] - 0s 8ms/step\n",
            "43/43 [==============================] - 0s 8ms/step\n",
            "79/79 [==============================] - 1s 9ms/step\n",
            "44/44 [==============================] - 0s 9ms/step\n",
            "43/43 [==============================] - 0s 8ms/step\n",
            "173/173 [==============================] - 2s 9ms/step\n",
            "192/192 [==============================] - 2s 9ms/step\n",
            "79/79 [==============================] - 1s 8ms/step\n",
            "43/43 [==============================] - 0s 9ms/step\n",
            "62/62 [==============================] - 1s 9ms/step\n",
            "142/142 [==============================] - 1s 9ms/step\n",
            "154/154 [==============================] - 1s 8ms/step\n",
            "43/43 [==============================] - 0s 8ms/step\n",
            "71/71 [==============================] - 1s 9ms/step\n",
            "43/43 [==============================] - 0s 9ms/step\n",
            "156/156 [==============================] - 1s 9ms/step\n",
            "28/28 [==============================] - 0s 9ms/step\n",
            "59/59 [==============================] - 1s 9ms/step\n",
            "43/43 [==============================] - 0s 9ms/step\n",
            "33/33 [==============================] - 0s 10ms/step\n",
            "66/66 [==============================] - 1s 9ms/step\n",
            "123/123 [==============================] - 1s 9ms/step\n",
            "46/46 [==============================] - 0s 9ms/step\n",
            "30/30 [==============================] - 0s 9ms/step\n",
            "135/135 [==============================] - 1s 9ms/step\n",
            "43/43 [==============================] - 0s 9ms/step\n",
            "234/234 [==============================] - 2s 9ms/step\n",
            "114/114 [==============================] - 1s 8ms/step\n",
            "94/94 [==============================] - 1s 8ms/step\n",
            "43/43 [==============================] - 0s 8ms/step\n",
            "73/73 [==============================] - 1s 8ms/step\n",
            "117/117 [==============================] - 1s 8ms/step\n",
            "88/88 [==============================] - 1s 8ms/step\n",
            "66/66 [==============================] - 1s 9ms/step\n",
            "43/43 [==============================] - 0s 9ms/step\n",
            "14/14 [==============================] - 0s 10ms/step\n",
            "60/60 [==============================] - 1s 8ms/step\n",
            "75/75 [==============================] - 1s 8ms/step\n",
            "43/43 [==============================] - 0s 8ms/step\n",
            "81/81 [==============================] - 1s 9ms/step\n",
            "43/43 [==============================] - 0s 9ms/step\n",
            "53/53 [==============================] - 0s 8ms/step\n",
            "29/29 [==============================] - 0s 9ms/step\n",
            "32/32 [==============================] - 0s 8ms/step\n",
            "69/69 [==============================] - 1s 9ms/step\n",
            "43/43 [==============================] - 0s 8ms/step\n",
            "221/221 [==============================] - 2s 8ms/step\n",
            "43/43 [==============================] - 0s 8ms/step\n",
            "97/97 [==============================] - 1s 9ms/step\n",
            "43/43 [==============================] - 0s 8ms/step\n",
            "37/37 [==============================] - 0s 8ms/step\n",
            "221/221 [==============================] - 2s 9ms/step\n",
            "43/43 [==============================] - 0s 8ms/step\n",
            "43/43 [==============================] - 0s 8ms/step\n",
            "27/27 [==============================] - 0s 10ms/step\n",
            "43/43 [==============================] - 0s 10ms/step\n",
            "108/108 [==============================] - 1s 8ms/step\n",
            "269/269 [==============================] - 2s 8ms/step\n",
            "43/43 [==============================] - 0s 9ms/step\n",
            "43/43 [==============================] - 0s 8ms/step\n",
            "18/18 [==============================] - 0s 8ms/step\n",
            "28/28 [==============================] - 0s 8ms/step\n",
            "170/170 [==============================] - 1s 8ms/step\n",
            "127/127 [==============================] - 1s 8ms/step\n",
            "43/43 [==============================] - 0s 9ms/step\n",
            "43/43 [==============================] - 0s 9ms/step\n",
            "112/112 [==============================] - 1s 9ms/step\n",
            "49/49 [==============================] - 0s 9ms/step\n",
            "221/221 [==============================] - 2s 9ms/step\n",
            "26/26 [==============================] - 0s 8ms/step\n",
            "92/92 [==============================] - 1s 9ms/step\n",
            "43/43 [==============================] - 0s 9ms/step\n",
            "53/53 [==============================] - 0s 9ms/step\n",
            "109/109 [==============================] - 1s 8ms/step\n",
            "170/170 [==============================] - 1s 9ms/step\n",
            "37/37 [==============================] - 0s 9ms/step\n",
            "79/79 [==============================] - 1s 9ms/step\n",
            "43/43 [==============================] - 0s 8ms/step\n",
            "61/61 [==============================] - 1s 9ms/step\n",
            "46/46 [==============================] - 0s 9ms/step\n",
            "195/195 [==============================] - 2s 8ms/step\n",
            "43/43 [==============================] - 0s 9ms/step\n",
            "226/226 [==============================] - 2s 8ms/step\n",
            "43/43 [==============================] - 0s 9ms/step\n",
            "43/43 [==============================] - 0s 9ms/step\n",
            "43/43 [==============================] - 0s 9ms/step\n",
            "47/47 [==============================] - 0s 9ms/step\n",
            "43/43 [==============================] - 0s 10ms/step\n",
            "216/216 [==============================] - 2s 8ms/step\n",
            "66/66 [==============================] - 1s 9ms/step\n",
            "100/100 [==============================] - 1s 9ms/step\n",
            "275/275 [==============================] - 2s 8ms/step\n",
            "43/43 [==============================] - 0s 8ms/step\n",
            "62/62 [==============================] - 1s 8ms/step\n",
            "259/259 [==============================] - 2s 9ms/step\n",
            "58/58 [==============================] - 1s 9ms/step\n",
            "332/332 [==============================] - 3s 8ms/step\n",
            "30/30 [==============================] - 0s 9ms/step\n"
          ],
          "name": "stdout"
        }
      ]
    },
    {
      "cell_type": "code",
      "metadata": {
        "colab": {
          "base_uri": "https://localhost:8080/",
          "height": 203
        },
        "id": "Vvs037FH_2fA",
        "outputId": "066e9d7c-5b7d-47d7-8cb5-7b58aa0a20e1"
      },
      "source": [
        "df_darurat.sample(5)"
      ],
      "execution_count": null,
      "outputs": [
        {
          "output_type": "execute_result",
          "data": {
            "text/html": [
              "<div>\n",
              "<style scoped>\n",
              "    .dataframe tbody tr th:only-of-type {\n",
              "        vertical-align: middle;\n",
              "    }\n",
              "\n",
              "    .dataframe tbody tr th {\n",
              "        vertical-align: top;\n",
              "    }\n",
              "\n",
              "    .dataframe thead th {\n",
              "        text-align: right;\n",
              "    }\n",
              "</style>\n",
              "<table border=\"1\" class=\"dataframe\">\n",
              "  <thead>\n",
              "    <tr style=\"text-align: right;\">\n",
              "      <th></th>\n",
              "      <th>tweet</th>\n",
              "      <th>Label</th>\n",
              "    </tr>\n",
              "  </thead>\n",
              "  <tbody>\n",
              "    <tr>\n",
              "      <th>98</th>\n",
              "      <td>revanheryan08 ududusx bangunjam6pagi afiffuads...</td>\n",
              "      <td>Positif</td>\n",
              "    </tr>\n",
              "    <tr>\n",
              "      <th>72</th>\n",
              "      <td>kabar ppkm diperpanjang sampai tanggal 2 agust...</td>\n",
              "      <td>Positif</td>\n",
              "    </tr>\n",
              "    <tr>\n",
              "      <th>78</th>\n",
              "      <td>kerja kerja kerja gk kerja gaada duit gaada du...</td>\n",
              "      <td>Positif</td>\n",
              "    </tr>\n",
              "    <tr>\n",
              "      <th>40</th>\n",
              "      <td>dausgonia yak benar haha sehat2 bro nasgor tia...</td>\n",
              "      <td>Negatif</td>\n",
              "    </tr>\n",
              "    <tr>\n",
              "      <th>43</th>\n",
              "      <td>apel ppkm  httpstcodt56nh4dkx</td>\n",
              "      <td>Negatif</td>\n",
              "    </tr>\n",
              "  </tbody>\n",
              "</table>\n",
              "</div>"
            ],
            "text/plain": [
              "                                                tweet    Label\n",
              "98  revanheryan08 ududusx bangunjam6pagi afiffuads...  Positif\n",
              "72  kabar ppkm diperpanjang sampai tanggal 2 agust...  Positif\n",
              "78  kerja kerja kerja gk kerja gaada duit gaada du...  Positif\n",
              "40  dausgonia yak benar haha sehat2 bro nasgor tia...  Negatif\n",
              "43                      apel ppkm  httpstcodt56nh4dkx  Negatif"
            ]
          },
          "metadata": {
            "tags": []
          },
          "execution_count": 61
        }
      ]
    },
    {
      "cell_type": "code",
      "metadata": {
        "colab": {
          "base_uri": "https://localhost:8080/"
        },
        "id": "9CazPmxQB85Y",
        "outputId": "fb4802ed-4da2-4861-bd35-dac8f28ca879"
      },
      "source": [
        "hasil_darurat = df_darurat.sample(5)\n",
        "hasil_darurat =pd.DataFrame(hasil_darurat)\n",
        "print(hasil_darurat)\n"
      ],
      "execution_count": null,
      "outputs": [
        {
          "output_type": "stream",
          "text": [
            "                                                tweet    Label\n",
            "22  dennysiregar7 itu siasat kadrun aja buat lockd...  Negatif\n",
            "66        vaksinperkuatimunitas ppkm cegah penyebaran  Positif\n",
            "33  ltrfess yok pengen staycation gitu bosen kerja...  Negatif\n",
            "35        vaksinperkuatimunitas ppkm cegah penyebaran  Positif\n",
            "77              ppkm  pelan pelan kamu menjauh   yhaa  Positif\n"
          ],
          "name": "stdout"
        }
      ]
    },
    {
      "cell_type": "code",
      "metadata": {
        "id": "hT_Gu4i6B85b"
      },
      "source": [
        "filepath ='hasil_darurat.csv'\n",
        "hasil_darurat.to_csv(filepath, index=False)"
      ],
      "execution_count": null,
      "outputs": []
    },
    {
      "cell_type": "code",
      "metadata": {
        "colab": {
          "base_uri": "https://localhost:8080/",
          "height": 309
        },
        "id": "RAu1HNTt_2fA",
        "outputId": "5b8afd85-ae92-4331-cd38-095107012e18"
      },
      "source": [
        "df_darurat['Label'].value_counts().plot(kind='bar')"
      ],
      "execution_count": null,
      "outputs": [
        {
          "output_type": "execute_result",
          "data": {
            "text/plain": [
              "<matplotlib.axes._subplots.AxesSubplot at 0x7f5e4b900710>"
            ]
          },
          "metadata": {
            "tags": []
          },
          "execution_count": 54
        },
        {
          "output_type": "display_data",
          "data": {
            "image/png": "[encoded data removed]",
            "text/plain": [
              "<Figure size 432x288 with 1 Axes>"
            ]
          },
          "metadata": {
            "tags": [],
            "needs_background": "light"
          }
        }
      ]
    },
    {
      "cell_type": "code",
      "metadata": {
        "id": "RFQk8jUyKbJi",
        "colab": {
          "base_uri": "https://localhost:8080/",
          "height": 265
        },
        "outputId": "3b8b998b-6cee-4300-be91-8c4ed2982fb7"
      },
      "source": [
        "df_darurat['Label'].value_counts().plot(kind='pie', autopct='%1.1f%%')"
      ],
      "execution_count": null,
      "outputs": [
        {
          "output_type": "execute_result",
          "data": {
            "text/plain": [
              "<matplotlib.axes._subplots.AxesSubplot at 0x7f5e48087f90>"
            ]
          },
          "metadata": {
            "tags": []
          },
          "execution_count": 98
        },
        {
          "output_type": "display_data",
          "data": {
            "image/png": "[encoded data removed]",
            "text/plain": [
              "<Figure size 432x288 with 1 Axes>"
            ]
          },
          "metadata": {
            "tags": []
          }
        }
      ]
    }
  ]
}